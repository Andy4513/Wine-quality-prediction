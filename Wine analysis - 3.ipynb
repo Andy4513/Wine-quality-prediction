{
 "cells": [
  {
   "cell_type": "markdown",
   "id": "c0ee738e",
   "metadata": {},
   "source": [
    "# Wine classification\n",
    "\n",
    "In this part different machine learning models will be used to predict the wine quality"
   ]
  },
  {
   "cell_type": "code",
   "execution_count": 1,
   "id": "85cc3da6",
   "metadata": {},
   "outputs": [],
   "source": [
    "import pandas as pd\n",
    "import numpy as np"
   ]
  },
  {
   "cell_type": "code",
   "execution_count": 2,
   "id": "dcebd5db",
   "metadata": {},
   "outputs": [
    {
     "data": {
      "text/html": [
       "<div>\n",
       "<style scoped>\n",
       "    .dataframe tbody tr th:only-of-type {\n",
       "        vertical-align: middle;\n",
       "    }\n",
       "\n",
       "    .dataframe tbody tr th {\n",
       "        vertical-align: top;\n",
       "    }\n",
       "\n",
       "    .dataframe thead th {\n",
       "        text-align: right;\n",
       "    }\n",
       "</style>\n",
       "<table border=\"1\" class=\"dataframe\">\n",
       "  <thead>\n",
       "    <tr style=\"text-align: right;\">\n",
       "      <th></th>\n",
       "      <th>fixed acidity</th>\n",
       "      <th>volatile acidity</th>\n",
       "      <th>citric acid</th>\n",
       "      <th>residual sugar</th>\n",
       "      <th>chlorides</th>\n",
       "      <th>free sulfur dioxide</th>\n",
       "      <th>total sulfur dioxide</th>\n",
       "      <th>density</th>\n",
       "      <th>pH</th>\n",
       "      <th>sulphates</th>\n",
       "      <th>alcohol</th>\n",
       "      <th>quality</th>\n",
       "    </tr>\n",
       "  </thead>\n",
       "  <tbody>\n",
       "    <tr>\n",
       "      <th>0</th>\n",
       "      <td>7.4</td>\n",
       "      <td>0.70</td>\n",
       "      <td>0.00</td>\n",
       "      <td>1.9</td>\n",
       "      <td>0.076</td>\n",
       "      <td>11.0</td>\n",
       "      <td>34.0</td>\n",
       "      <td>0.9978</td>\n",
       "      <td>3.51</td>\n",
       "      <td>0.56</td>\n",
       "      <td>9.4</td>\n",
       "      <td>5</td>\n",
       "    </tr>\n",
       "    <tr>\n",
       "      <th>1</th>\n",
       "      <td>7.8</td>\n",
       "      <td>0.88</td>\n",
       "      <td>0.00</td>\n",
       "      <td>2.6</td>\n",
       "      <td>0.098</td>\n",
       "      <td>25.0</td>\n",
       "      <td>67.0</td>\n",
       "      <td>0.9968</td>\n",
       "      <td>3.20</td>\n",
       "      <td>0.68</td>\n",
       "      <td>9.8</td>\n",
       "      <td>5</td>\n",
       "    </tr>\n",
       "    <tr>\n",
       "      <th>2</th>\n",
       "      <td>7.8</td>\n",
       "      <td>0.76</td>\n",
       "      <td>0.04</td>\n",
       "      <td>2.3</td>\n",
       "      <td>0.092</td>\n",
       "      <td>15.0</td>\n",
       "      <td>54.0</td>\n",
       "      <td>0.9970</td>\n",
       "      <td>3.26</td>\n",
       "      <td>0.65</td>\n",
       "      <td>9.8</td>\n",
       "      <td>5</td>\n",
       "    </tr>\n",
       "    <tr>\n",
       "      <th>3</th>\n",
       "      <td>11.2</td>\n",
       "      <td>0.28</td>\n",
       "      <td>0.56</td>\n",
       "      <td>1.9</td>\n",
       "      <td>0.075</td>\n",
       "      <td>17.0</td>\n",
       "      <td>60.0</td>\n",
       "      <td>0.9980</td>\n",
       "      <td>3.16</td>\n",
       "      <td>0.58</td>\n",
       "      <td>9.8</td>\n",
       "      <td>6</td>\n",
       "    </tr>\n",
       "    <tr>\n",
       "      <th>4</th>\n",
       "      <td>7.4</td>\n",
       "      <td>0.70</td>\n",
       "      <td>0.00</td>\n",
       "      <td>1.9</td>\n",
       "      <td>0.076</td>\n",
       "      <td>11.0</td>\n",
       "      <td>34.0</td>\n",
       "      <td>0.9978</td>\n",
       "      <td>3.51</td>\n",
       "      <td>0.56</td>\n",
       "      <td>9.4</td>\n",
       "      <td>5</td>\n",
       "    </tr>\n",
       "  </tbody>\n",
       "</table>\n",
       "</div>"
      ],
      "text/plain": [
       "   fixed acidity  volatile acidity  citric acid  residual sugar  chlorides  \\\n",
       "0            7.4              0.70         0.00             1.9      0.076   \n",
       "1            7.8              0.88         0.00             2.6      0.098   \n",
       "2            7.8              0.76         0.04             2.3      0.092   \n",
       "3           11.2              0.28         0.56             1.9      0.075   \n",
       "4            7.4              0.70         0.00             1.9      0.076   \n",
       "\n",
       "   free sulfur dioxide  total sulfur dioxide  density    pH  sulphates  \\\n",
       "0                 11.0                  34.0   0.9978  3.51       0.56   \n",
       "1                 25.0                  67.0   0.9968  3.20       0.68   \n",
       "2                 15.0                  54.0   0.9970  3.26       0.65   \n",
       "3                 17.0                  60.0   0.9980  3.16       0.58   \n",
       "4                 11.0                  34.0   0.9978  3.51       0.56   \n",
       "\n",
       "   alcohol  quality  \n",
       "0      9.4        5  \n",
       "1      9.8        5  \n",
       "2      9.8        5  \n",
       "3      9.8        6  \n",
       "4      9.4        5  "
      ]
     },
     "execution_count": 2,
     "metadata": {},
     "output_type": "execute_result"
    }
   ],
   "source": [
    "# Load the data into dataframes\n",
    "\n",
    "df_red = pd.read_csv('winequality-red.csv', delimiter = ';')\n",
    "df_white = pd.read_csv('winequality-white.csv', delimiter = ';')\n",
    "df_combined = pd.read_csv('winequality.csv')\n",
    "\n",
    "df_red.head()"
   ]
  },
  {
   "cell_type": "code",
   "execution_count": 3,
   "id": "b453c778",
   "metadata": {},
   "outputs": [],
   "source": [
    "from sklearn.model_selection import train_test_split\n",
    "from sklearn.dummy import DummyClassifier\n",
    "from sklearn.linear_model import LogisticRegression\n",
    "from sklearn.tree import DecisionTreeClassifier\n",
    "from sklearn.ensemble import RandomForestClassifier\n",
    "from sklearn.ensemble import GradientBoostingClassifier\n",
    "from sklearn.metrics import f1_score\n",
    "from sklearn.metrics import confusion_matrix\n",
    "from sklearn.preprocessing import StandardScaler\n",
    "from sklearn.metrics import classification_report"
   ]
  },
  {
   "cell_type": "markdown",
   "id": "d19cfb26",
   "metadata": {},
   "source": [
    "# Red wine classification"
   ]
  },
  {
   "cell_type": "code",
   "execution_count": 4,
   "id": "a1719ace",
   "metadata": {},
   "outputs": [
    {
     "data": {
      "text/html": [
       "<div>\n",
       "<style scoped>\n",
       "    .dataframe tbody tr th:only-of-type {\n",
       "        vertical-align: middle;\n",
       "    }\n",
       "\n",
       "    .dataframe tbody tr th {\n",
       "        vertical-align: top;\n",
       "    }\n",
       "\n",
       "    .dataframe thead th {\n",
       "        text-align: right;\n",
       "    }\n",
       "</style>\n",
       "<table border=\"1\" class=\"dataframe\">\n",
       "  <thead>\n",
       "    <tr style=\"text-align: right;\">\n",
       "      <th></th>\n",
       "      <th>fixed acidity</th>\n",
       "      <th>volatile acidity</th>\n",
       "      <th>citric acid</th>\n",
       "      <th>residual sugar</th>\n",
       "      <th>chlorides</th>\n",
       "      <th>free sulfur dioxide</th>\n",
       "      <th>total sulfur dioxide</th>\n",
       "      <th>density</th>\n",
       "      <th>pH</th>\n",
       "      <th>sulphates</th>\n",
       "      <th>alcohol</th>\n",
       "    </tr>\n",
       "  </thead>\n",
       "  <tbody>\n",
       "    <tr>\n",
       "      <th>0</th>\n",
       "      <td>7.4</td>\n",
       "      <td>0.70</td>\n",
       "      <td>0.00</td>\n",
       "      <td>1.9</td>\n",
       "      <td>0.076</td>\n",
       "      <td>11.0</td>\n",
       "      <td>34.0</td>\n",
       "      <td>0.9978</td>\n",
       "      <td>3.51</td>\n",
       "      <td>0.56</td>\n",
       "      <td>9.4</td>\n",
       "    </tr>\n",
       "    <tr>\n",
       "      <th>1</th>\n",
       "      <td>7.8</td>\n",
       "      <td>0.88</td>\n",
       "      <td>0.00</td>\n",
       "      <td>2.6</td>\n",
       "      <td>0.098</td>\n",
       "      <td>25.0</td>\n",
       "      <td>67.0</td>\n",
       "      <td>0.9968</td>\n",
       "      <td>3.20</td>\n",
       "      <td>0.68</td>\n",
       "      <td>9.8</td>\n",
       "    </tr>\n",
       "    <tr>\n",
       "      <th>2</th>\n",
       "      <td>7.8</td>\n",
       "      <td>0.76</td>\n",
       "      <td>0.04</td>\n",
       "      <td>2.3</td>\n",
       "      <td>0.092</td>\n",
       "      <td>15.0</td>\n",
       "      <td>54.0</td>\n",
       "      <td>0.9970</td>\n",
       "      <td>3.26</td>\n",
       "      <td>0.65</td>\n",
       "      <td>9.8</td>\n",
       "    </tr>\n",
       "    <tr>\n",
       "      <th>3</th>\n",
       "      <td>11.2</td>\n",
       "      <td>0.28</td>\n",
       "      <td>0.56</td>\n",
       "      <td>1.9</td>\n",
       "      <td>0.075</td>\n",
       "      <td>17.0</td>\n",
       "      <td>60.0</td>\n",
       "      <td>0.9980</td>\n",
       "      <td>3.16</td>\n",
       "      <td>0.58</td>\n",
       "      <td>9.8</td>\n",
       "    </tr>\n",
       "    <tr>\n",
       "      <th>4</th>\n",
       "      <td>7.4</td>\n",
       "      <td>0.70</td>\n",
       "      <td>0.00</td>\n",
       "      <td>1.9</td>\n",
       "      <td>0.076</td>\n",
       "      <td>11.0</td>\n",
       "      <td>34.0</td>\n",
       "      <td>0.9978</td>\n",
       "      <td>3.51</td>\n",
       "      <td>0.56</td>\n",
       "      <td>9.4</td>\n",
       "    </tr>\n",
       "  </tbody>\n",
       "</table>\n",
       "</div>"
      ],
      "text/plain": [
       "   fixed acidity  volatile acidity  citric acid  residual sugar  chlorides  \\\n",
       "0            7.4              0.70         0.00             1.9      0.076   \n",
       "1            7.8              0.88         0.00             2.6      0.098   \n",
       "2            7.8              0.76         0.04             2.3      0.092   \n",
       "3           11.2              0.28         0.56             1.9      0.075   \n",
       "4            7.4              0.70         0.00             1.9      0.076   \n",
       "\n",
       "   free sulfur dioxide  total sulfur dioxide  density    pH  sulphates  \\\n",
       "0                 11.0                  34.0   0.9978  3.51       0.56   \n",
       "1                 25.0                  67.0   0.9968  3.20       0.68   \n",
       "2                 15.0                  54.0   0.9970  3.26       0.65   \n",
       "3                 17.0                  60.0   0.9980  3.16       0.58   \n",
       "4                 11.0                  34.0   0.9978  3.51       0.56   \n",
       "\n",
       "   alcohol  \n",
       "0      9.4  \n",
       "1      9.8  \n",
       "2      9.8  \n",
       "3      9.8  \n",
       "4      9.4  "
      ]
     },
     "execution_count": 4,
     "metadata": {},
     "output_type": "execute_result"
    }
   ],
   "source": [
    "target = df_red['quality']\n",
    "attr = df_red.drop(['quality'], axis=1)\n",
    "\n",
    "attr.head()"
   ]
  },
  {
   "cell_type": "code",
   "execution_count": 5,
   "id": "d917ed57",
   "metadata": {},
   "outputs": [],
   "source": [
    "# Separate the data into training and test data\n",
    "\n",
    "x_train, x_test, y_train, y_test = train_test_split(attr, target, test_size = 0.2)"
   ]
  },
  {
   "cell_type": "code",
   "execution_count": 6,
   "id": "3f0390c0",
   "metadata": {},
   "outputs": [
    {
     "data": {
      "text/plain": [
       "array([[-0.75786917, -0.58771411,  0.40264116, ...,  0.18588158,\n",
       "        -0.63805493, -1.16873704],\n",
       "       [ 0.38116099, -0.36299472,  0.19779707, ...,  0.05830308,\n",
       "        -0.17454211, -0.8863591 ],\n",
       "       [ 0.49506401,  0.36734328, -0.16068009, ..., -0.32443244,\n",
       "         0.0572143 , -0.79223312],\n",
       "       ...,\n",
       "       [-0.81482068,  1.35049059, -0.46794622, ...,  0.56861709,\n",
       "        -0.34835942, -0.13335127],\n",
       "       [-0.87177219,  0.81678205, -1.28732258, ...,  1.07893111,\n",
       "        -0.81187223, -0.8863591 ],\n",
       "       [ 0.89372457, -0.19445518,  1.58049467, ..., -0.13306468,\n",
       "        -0.46423762, -1.356989  ]])"
      ]
     },
     "execution_count": 6,
     "metadata": {},
     "output_type": "execute_result"
    }
   ],
   "source": [
    "# Scale the data\n",
    "\n",
    "scaler = StandardScaler()\n",
    "scaler.fit_transform(x_train, y_train)\n",
    "scaler.transform(x_test)"
   ]
  },
  {
   "cell_type": "markdown",
   "id": "3fa22499",
   "metadata": {},
   "source": [
    "**Create a dummy model for determining a benchmark**"
   ]
  },
  {
   "cell_type": "code",
   "execution_count": 7,
   "id": "19bdca09",
   "metadata": {},
   "outputs": [],
   "source": [
    "model = DummyClassifier()\n",
    "\n",
    "model.fit(x_train, y_train)\n",
    "\n",
    "pred = model.predict(x_test)"
   ]
  },
  {
   "cell_type": "code",
   "execution_count": 8,
   "id": "5d15af2e",
   "metadata": {},
   "outputs": [
    {
     "data": {
      "text/plain": [
       "0.43125"
      ]
     },
     "execution_count": 8,
     "metadata": {},
     "output_type": "execute_result"
    }
   ],
   "source": [
    "model.score(x_test, y_test)"
   ]
  },
  {
   "cell_type": "code",
   "execution_count": 9,
   "id": "3d4d4f23",
   "metadata": {},
   "outputs": [
    {
     "name": "stdout",
     "output_type": "stream",
     "text": [
      "[[  0   0   1   0   0   0]\n",
      " [  0   0  12   0   0   0]\n",
      " [  0   0 138   0   0   0]\n",
      " [  0   0 131   0   0   0]\n",
      " [  0   0  37   0   0   0]\n",
      " [  0   0   1   0   0   0]]\n"
     ]
    }
   ],
   "source": [
    "print(confusion_matrix(y_true = y_test, y_pred=pred))"
   ]
  },
  {
   "cell_type": "code",
   "execution_count": 10,
   "id": "fbacaeeb",
   "metadata": {},
   "outputs": [
    {
     "name": "stdout",
     "output_type": "stream",
     "text": [
      "              precision    recall  f1-score   support\n",
      "\n",
      "           3       0.00      0.00      0.00         1\n",
      "           4       0.00      0.00      0.00        12\n",
      "           5       0.43      1.00      0.60       138\n",
      "           6       0.00      0.00      0.00       131\n",
      "           7       0.00      0.00      0.00        37\n",
      "           8       0.00      0.00      0.00         1\n",
      "\n",
      "    accuracy                           0.43       320\n",
      "   macro avg       0.07      0.17      0.10       320\n",
      "weighted avg       0.19      0.43      0.26       320\n",
      "\n"
     ]
    },
    {
     "name": "stderr",
     "output_type": "stream",
     "text": [
      "C:\\Users\\Andy\\anaconda3\\lib\\site-packages\\sklearn\\metrics\\_classification.py:1318: UndefinedMetricWarning: Precision and F-score are ill-defined and being set to 0.0 in labels with no predicted samples. Use `zero_division` parameter to control this behavior.\n",
      "  _warn_prf(average, modifier, msg_start, len(result))\n",
      "C:\\Users\\Andy\\anaconda3\\lib\\site-packages\\sklearn\\metrics\\_classification.py:1318: UndefinedMetricWarning: Precision and F-score are ill-defined and being set to 0.0 in labels with no predicted samples. Use `zero_division` parameter to control this behavior.\n",
      "  _warn_prf(average, modifier, msg_start, len(result))\n",
      "C:\\Users\\Andy\\anaconda3\\lib\\site-packages\\sklearn\\metrics\\_classification.py:1318: UndefinedMetricWarning: Precision and F-score are ill-defined and being set to 0.0 in labels with no predicted samples. Use `zero_division` parameter to control this behavior.\n",
      "  _warn_prf(average, modifier, msg_start, len(result))\n"
     ]
    }
   ],
   "source": [
    "print(classification_report(y_test, pred))"
   ]
  },
  {
   "cell_type": "markdown",
   "id": "70535e37",
   "metadata": {},
   "source": [
    "**Logistic Regression model**"
   ]
  },
  {
   "cell_type": "code",
   "execution_count": 11,
   "id": "ba032de8",
   "metadata": {},
   "outputs": [],
   "source": [
    "model = LogisticRegression(max_iter = 10000)\n",
    "\n",
    "model.fit(x_train, y_train)\n",
    "\n",
    "pred = model.predict(x_test)"
   ]
  },
  {
   "cell_type": "code",
   "execution_count": 12,
   "id": "3203f82c",
   "metadata": {},
   "outputs": [
    {
     "data": {
      "text/plain": [
       "0.5875"
      ]
     },
     "execution_count": 12,
     "metadata": {},
     "output_type": "execute_result"
    }
   ],
   "source": [
    "model.score(x_test, y_test)"
   ]
  },
  {
   "cell_type": "code",
   "execution_count": 13,
   "id": "e749d829",
   "metadata": {},
   "outputs": [
    {
     "name": "stdout",
     "output_type": "stream",
     "text": [
      "[[  0   0   1   0   0   0]\n",
      " [  0   0   9   3   0   0]\n",
      " [  0   0 112  26   0   0]\n",
      " [  0   0  50  68  13   0]\n",
      " [  0   0   5  24   8   0]\n",
      " [  0   0   0   0   1   0]]\n"
     ]
    }
   ],
   "source": [
    "print(confusion_matrix(y_true = y_test, y_pred = pred))"
   ]
  },
  {
   "cell_type": "code",
   "execution_count": 14,
   "id": "b45134db",
   "metadata": {},
   "outputs": [
    {
     "name": "stdout",
     "output_type": "stream",
     "text": [
      "              precision    recall  f1-score   support\n",
      "\n",
      "           3       0.00      0.00      0.00         1\n",
      "           4       0.00      0.00      0.00        12\n",
      "           5       0.63      0.81      0.71       138\n",
      "           6       0.56      0.52      0.54       131\n",
      "           7       0.36      0.22      0.27        37\n",
      "           8       0.00      0.00      0.00         1\n",
      "\n",
      "    accuracy                           0.59       320\n",
      "   macro avg       0.26      0.26      0.25       320\n",
      "weighted avg       0.54      0.59      0.56       320\n",
      "\n"
     ]
    },
    {
     "name": "stderr",
     "output_type": "stream",
     "text": [
      "C:\\Users\\Andy\\anaconda3\\lib\\site-packages\\sklearn\\metrics\\_classification.py:1318: UndefinedMetricWarning: Precision and F-score are ill-defined and being set to 0.0 in labels with no predicted samples. Use `zero_division` parameter to control this behavior.\n",
      "  _warn_prf(average, modifier, msg_start, len(result))\n",
      "C:\\Users\\Andy\\anaconda3\\lib\\site-packages\\sklearn\\metrics\\_classification.py:1318: UndefinedMetricWarning: Precision and F-score are ill-defined and being set to 0.0 in labels with no predicted samples. Use `zero_division` parameter to control this behavior.\n",
      "  _warn_prf(average, modifier, msg_start, len(result))\n",
      "C:\\Users\\Andy\\anaconda3\\lib\\site-packages\\sklearn\\metrics\\_classification.py:1318: UndefinedMetricWarning: Precision and F-score are ill-defined and being set to 0.0 in labels with no predicted samples. Use `zero_division` parameter to control this behavior.\n",
      "  _warn_prf(average, modifier, msg_start, len(result))\n"
     ]
    }
   ],
   "source": [
    "print(classification_report(y_test, pred))"
   ]
  },
  {
   "cell_type": "markdown",
   "id": "2761a196",
   "metadata": {},
   "source": [
    "**Decision Tree model**"
   ]
  },
  {
   "cell_type": "code",
   "execution_count": 15,
   "id": "2feba2c1",
   "metadata": {},
   "outputs": [
    {
     "data": {
      "text/plain": [
       "0.64375"
      ]
     },
     "execution_count": 15,
     "metadata": {},
     "output_type": "execute_result"
    }
   ],
   "source": [
    "model = DecisionTreeClassifier()\n",
    "model.fit(x_train, y_train)\n",
    "pred = model.predict(x_test)\n",
    "\n",
    "model.score(x_test, y_test)"
   ]
  },
  {
   "cell_type": "code",
   "execution_count": 16,
   "id": "9b5ec0a4",
   "metadata": {},
   "outputs": [
    {
     "name": "stdout",
     "output_type": "stream",
     "text": [
      "[[  0   0   0   1   0   0]\n",
      " [  0   0   8   4   0   0]\n",
      " [  1   6 109  19   3   0]\n",
      " [  1   2  33  73  21   1]\n",
      " [  1   0   1  10  24   1]\n",
      " [  0   0   0   0   1   0]]\n"
     ]
    }
   ],
   "source": [
    "print(confusion_matrix(y_true = y_test, y_pred = pred))"
   ]
  },
  {
   "cell_type": "code",
   "execution_count": 17,
   "id": "2b9e787e",
   "metadata": {},
   "outputs": [
    {
     "name": "stdout",
     "output_type": "stream",
     "text": [
      "              precision    recall  f1-score   support\n",
      "\n",
      "           3       0.00      0.00      0.00         1\n",
      "           4       0.00      0.00      0.00        12\n",
      "           5       0.72      0.79      0.75       138\n",
      "           6       0.68      0.56      0.61       131\n",
      "           7       0.49      0.65      0.56        37\n",
      "           8       0.00      0.00      0.00         1\n",
      "\n",
      "    accuracy                           0.64       320\n",
      "   macro avg       0.32      0.33      0.32       320\n",
      "weighted avg       0.65      0.64      0.64       320\n",
      "\n"
     ]
    }
   ],
   "source": [
    "print(classification_report(y_test, pred))"
   ]
  },
  {
   "cell_type": "markdown",
   "id": "e5944a79",
   "metadata": {},
   "source": [
    "**Random Forest model**"
   ]
  },
  {
   "cell_type": "code",
   "execution_count": 18,
   "id": "135294f0",
   "metadata": {},
   "outputs": [
    {
     "data": {
      "text/plain": [
       "0.75"
      ]
     },
     "execution_count": 18,
     "metadata": {},
     "output_type": "execute_result"
    }
   ],
   "source": [
    "model = RandomForestClassifier()\n",
    "model.fit(x_train, y_train)\n",
    "pred = model.predict(x_test)\n",
    "\n",
    "model.score(x_test, y_test)"
   ]
  },
  {
   "cell_type": "code",
   "execution_count": 19,
   "id": "a8e1e6da",
   "metadata": {},
   "outputs": [
    {
     "name": "stdout",
     "output_type": "stream",
     "text": [
      "[[  0   0   0   1   0   0]\n",
      " [  1   1   8   2   0   0]\n",
      " [  0   0 117  20   1   0]\n",
      " [  0   0  24  98   9   0]\n",
      " [  0   0   2  11  24   0]\n",
      " [  0   0   0   0   1   0]]\n"
     ]
    }
   ],
   "source": [
    "print(confusion_matrix(y_true = y_test, y_pred = pred))"
   ]
  },
  {
   "cell_type": "code",
   "execution_count": 20,
   "id": "6e3008a0",
   "metadata": {},
   "outputs": [
    {
     "name": "stdout",
     "output_type": "stream",
     "text": [
      "              precision    recall  f1-score   support\n",
      "\n",
      "           3       0.00      0.00      0.00         1\n",
      "           4       1.00      0.08      0.15        12\n",
      "           5       0.77      0.85      0.81       138\n",
      "           6       0.74      0.75      0.75       131\n",
      "           7       0.69      0.65      0.67        37\n",
      "           8       0.00      0.00      0.00         1\n",
      "\n",
      "    accuracy                           0.75       320\n",
      "   macro avg       0.53      0.39      0.40       320\n",
      "weighted avg       0.75      0.75      0.74       320\n",
      "\n"
     ]
    },
    {
     "name": "stderr",
     "output_type": "stream",
     "text": [
      "C:\\Users\\Andy\\anaconda3\\lib\\site-packages\\sklearn\\metrics\\_classification.py:1318: UndefinedMetricWarning: Precision and F-score are ill-defined and being set to 0.0 in labels with no predicted samples. Use `zero_division` parameter to control this behavior.\n",
      "  _warn_prf(average, modifier, msg_start, len(result))\n",
      "C:\\Users\\Andy\\anaconda3\\lib\\site-packages\\sklearn\\metrics\\_classification.py:1318: UndefinedMetricWarning: Precision and F-score are ill-defined and being set to 0.0 in labels with no predicted samples. Use `zero_division` parameter to control this behavior.\n",
      "  _warn_prf(average, modifier, msg_start, len(result))\n",
      "C:\\Users\\Andy\\anaconda3\\lib\\site-packages\\sklearn\\metrics\\_classification.py:1318: UndefinedMetricWarning: Precision and F-score are ill-defined and being set to 0.0 in labels with no predicted samples. Use `zero_division` parameter to control this behavior.\n",
      "  _warn_prf(average, modifier, msg_start, len(result))\n"
     ]
    }
   ],
   "source": [
    "print(classification_report(y_test, pred))"
   ]
  },
  {
   "cell_type": "markdown",
   "id": "33b1d746",
   "metadata": {},
   "source": [
    "**Gradient Boost model**"
   ]
  },
  {
   "cell_type": "code",
   "execution_count": 21,
   "id": "04301658",
   "metadata": {},
   "outputs": [
    {
     "data": {
      "text/plain": [
       "0.684375"
      ]
     },
     "execution_count": 21,
     "metadata": {},
     "output_type": "execute_result"
    }
   ],
   "source": [
    "model = GradientBoostingClassifier()\n",
    "model.fit(x_train, y_train)\n",
    "pred = model.predict(x_test)\n",
    "\n",
    "model.score(x_test, y_test)"
   ]
  },
  {
   "cell_type": "code",
   "execution_count": 22,
   "id": "ef8468ab",
   "metadata": {},
   "outputs": [
    {
     "name": "stdout",
     "output_type": "stream",
     "text": [
      "[[  0   0   0   1   0   0]\n",
      " [  0   1   7   4   0   0]\n",
      " [  0   1 117  19   1   0]\n",
      " [  0   0  38  83   9   1]\n",
      " [  0   0   5  13  18   1]\n",
      " [  0   0   0   0   1   0]]\n"
     ]
    }
   ],
   "source": [
    "print(confusion_matrix(y_true = y_test, y_pred = pred))"
   ]
  },
  {
   "cell_type": "markdown",
   "id": "fd60a9be",
   "metadata": {},
   "source": [
    "The best model had a score of 0.75 which is quite low, so we will modify the problem."
   ]
  },
  {
   "cell_type": "markdown",
   "id": "40d04aa6",
   "metadata": {},
   "source": [
    "# Transform the problem into a binary classification problem with 2 classes:\n",
    "   1. not good (quality < 7) : 0\n",
    "   2. good (quality >= 7) : 1"
   ]
  },
  {
   "cell_type": "code",
   "execution_count": 23,
   "id": "0baaf40d",
   "metadata": {},
   "outputs": [
    {
     "data": {
      "text/plain": [
       "0    1382\n",
       "1     217\n",
       "Name: isGood, dtype: int64"
      ]
     },
     "execution_count": 23,
     "metadata": {},
     "output_type": "execute_result"
    }
   ],
   "source": [
    "# Create the target attribute 'isGood'\n",
    "\n",
    "df_red['isGood'] = np.where(df_red['quality'] >= 7, 1, 0)\n",
    "\n",
    "df_red['isGood'].value_counts()"
   ]
  },
  {
   "cell_type": "code",
   "execution_count": 24,
   "id": "3c44622a",
   "metadata": {},
   "outputs": [],
   "source": [
    "# Separate the data into train and test \n",
    "\n",
    "target = df_red['isGood']\n",
    "attr = df_red.drop(['isGood', 'quality'], axis = 1)\n",
    "x_train, x_test, y_train, y_test = train_test_split(attr, target, test_size = 0.3)\n"
   ]
  },
  {
   "cell_type": "code",
   "execution_count": 25,
   "id": "0a932458",
   "metadata": {},
   "outputs": [
    {
     "data": {
      "text/plain": [
       "array([[ 2.17595498, -0.27921325,  1.39084062, ..., -1.39449787,\n",
       "        -0.28593733,  0.06763826],\n",
       "       [ 0.65178259, -0.39127911, -0.16821239, ..., -1.26339023,\n",
       "         0.54630164, -0.40081983],\n",
       "       [ 0.08727429, -1.9602012 ,  1.23493532, ...,  0.11323998,\n",
       "         0.6743384 ,  1.28562928],\n",
       "       ...,\n",
       "       [-1.09819312,  1.4858241 , -1.41545481, ...,  1.16210108,\n",
       "        -0.86210277,  1.09824605],\n",
       "       [ 0.53888093, -0.95160843,  0.61131412, ...,  1.03099344,\n",
       "         0.48228325,  0.44240473],\n",
       "       [-0.36433234, -1.68003654,  0.50737725, ...,  0.63767053,\n",
       "         0.35424649,  1.56670413]])"
      ]
     },
     "execution_count": 25,
     "metadata": {},
     "output_type": "execute_result"
    }
   ],
   "source": [
    "# Scale the data\n",
    "\n",
    "scaler = StandardScaler()\n",
    "scaler.fit_transform(x_train, y_train)\n",
    "scaler.transform(x_test)"
   ]
  },
  {
   "cell_type": "markdown",
   "id": "f5d7dfec",
   "metadata": {},
   "source": [
    "**Dummy model**"
   ]
  },
  {
   "cell_type": "code",
   "execution_count": 26,
   "id": "5f4d4c56",
   "metadata": {},
   "outputs": [],
   "source": [
    "model = DummyClassifier()\n",
    "\n",
    "model.fit(x_train, y_train)\n",
    "\n",
    "pred = model.predict(x_test)"
   ]
  },
  {
   "cell_type": "code",
   "execution_count": 27,
   "id": "89ab1484",
   "metadata": {},
   "outputs": [
    {
     "data": {
      "text/plain": [
       "0.8770833333333333"
      ]
     },
     "execution_count": 27,
     "metadata": {},
     "output_type": "execute_result"
    }
   ],
   "source": [
    "model.score(x_test, y_test)"
   ]
  },
  {
   "cell_type": "code",
   "execution_count": 28,
   "id": "228c4d08",
   "metadata": {},
   "outputs": [
    {
     "name": "stdout",
     "output_type": "stream",
     "text": [
      "[[421   0]\n",
      " [ 59   0]]\n"
     ]
    }
   ],
   "source": [
    "print(confusion_matrix(y_test, pred))"
   ]
  },
  {
   "cell_type": "code",
   "execution_count": 29,
   "id": "12901461",
   "metadata": {},
   "outputs": [
    {
     "name": "stdout",
     "output_type": "stream",
     "text": [
      "              precision    recall  f1-score   support\n",
      "\n",
      "           0       0.88      1.00      0.93       421\n",
      "           1       0.00      0.00      0.00        59\n",
      "\n",
      "    accuracy                           0.88       480\n",
      "   macro avg       0.44      0.50      0.47       480\n",
      "weighted avg       0.77      0.88      0.82       480\n",
      "\n"
     ]
    },
    {
     "name": "stderr",
     "output_type": "stream",
     "text": [
      "C:\\Users\\Andy\\anaconda3\\lib\\site-packages\\sklearn\\metrics\\_classification.py:1318: UndefinedMetricWarning: Precision and F-score are ill-defined and being set to 0.0 in labels with no predicted samples. Use `zero_division` parameter to control this behavior.\n",
      "  _warn_prf(average, modifier, msg_start, len(result))\n",
      "C:\\Users\\Andy\\anaconda3\\lib\\site-packages\\sklearn\\metrics\\_classification.py:1318: UndefinedMetricWarning: Precision and F-score are ill-defined and being set to 0.0 in labels with no predicted samples. Use `zero_division` parameter to control this behavior.\n",
      "  _warn_prf(average, modifier, msg_start, len(result))\n",
      "C:\\Users\\Andy\\anaconda3\\lib\\site-packages\\sklearn\\metrics\\_classification.py:1318: UndefinedMetricWarning: Precision and F-score are ill-defined and being set to 0.0 in labels with no predicted samples. Use `zero_division` parameter to control this behavior.\n",
      "  _warn_prf(average, modifier, msg_start, len(result))\n"
     ]
    }
   ],
   "source": [
    "print(classification_report(y_test, pred))"
   ]
  },
  {
   "cell_type": "markdown",
   "id": "ee15cb94",
   "metadata": {},
   "source": [
    "**Decision Tree model**"
   ]
  },
  {
   "cell_type": "code",
   "execution_count": 30,
   "id": "00a26ad9",
   "metadata": {},
   "outputs": [
    {
     "data": {
      "text/plain": [
       "0.8520833333333333"
      ]
     },
     "execution_count": 30,
     "metadata": {},
     "output_type": "execute_result"
    }
   ],
   "source": [
    "model = DecisionTreeClassifier()\n",
    "model.fit(x_train, y_train)\n",
    "pred = model.predict(x_test)\n",
    "\n",
    "model.score(x_test, y_test)"
   ]
  },
  {
   "cell_type": "code",
   "execution_count": 31,
   "id": "81b41892",
   "metadata": {},
   "outputs": [
    {
     "name": "stdout",
     "output_type": "stream",
     "text": [
      "[[373  48]\n",
      " [ 23  36]]\n"
     ]
    }
   ],
   "source": [
    "print(confusion_matrix(y_test, pred))"
   ]
  },
  {
   "cell_type": "code",
   "execution_count": 32,
   "id": "3c0d8fd0",
   "metadata": {},
   "outputs": [
    {
     "name": "stdout",
     "output_type": "stream",
     "text": [
      "              precision    recall  f1-score   support\n",
      "\n",
      "           0       0.94      0.89      0.91       421\n",
      "           1       0.43      0.61      0.50        59\n",
      "\n",
      "    accuracy                           0.85       480\n",
      "   macro avg       0.69      0.75      0.71       480\n",
      "weighted avg       0.88      0.85      0.86       480\n",
      "\n"
     ]
    }
   ],
   "source": [
    "print(classification_report(y_test, pred))"
   ]
  },
  {
   "cell_type": "markdown",
   "id": "2089b8e0",
   "metadata": {},
   "source": [
    "**Logistic Regression model**"
   ]
  },
  {
   "cell_type": "code",
   "execution_count": 33,
   "id": "411a4c2a",
   "metadata": {},
   "outputs": [
    {
     "data": {
      "text/plain": [
       "0.8833333333333333"
      ]
     },
     "execution_count": 33,
     "metadata": {},
     "output_type": "execute_result"
    }
   ],
   "source": [
    "model = LogisticRegression(max_iter = 10000)\n",
    "model.fit(x_train, y_train)\n",
    "pred = model.predict(x_test)\n",
    "\n",
    "model.score(x_test, y_test)"
   ]
  },
  {
   "cell_type": "code",
   "execution_count": 34,
   "id": "baf007d9",
   "metadata": {},
   "outputs": [
    {
     "name": "stdout",
     "output_type": "stream",
     "text": [
      "[[403  18]\n",
      " [ 38  21]]\n"
     ]
    }
   ],
   "source": [
    "print(confusion_matrix(y_test, pred))"
   ]
  },
  {
   "cell_type": "code",
   "execution_count": 35,
   "id": "c59bdbf9",
   "metadata": {},
   "outputs": [
    {
     "name": "stdout",
     "output_type": "stream",
     "text": [
      "              precision    recall  f1-score   support\n",
      "\n",
      "           0       0.91      0.96      0.94       421\n",
      "           1       0.54      0.36      0.43        59\n",
      "\n",
      "    accuracy                           0.88       480\n",
      "   macro avg       0.73      0.66      0.68       480\n",
      "weighted avg       0.87      0.88      0.87       480\n",
      "\n"
     ]
    }
   ],
   "source": [
    "print(classification_report(y_test, pred))"
   ]
  },
  {
   "cell_type": "markdown",
   "id": "30fac453",
   "metadata": {},
   "source": [
    "**Gradient Boost model**"
   ]
  },
  {
   "cell_type": "code",
   "execution_count": 36,
   "id": "063e393d",
   "metadata": {},
   "outputs": [
    {
     "data": {
      "text/plain": [
       "0.9083333333333333"
      ]
     },
     "execution_count": 36,
     "metadata": {},
     "output_type": "execute_result"
    }
   ],
   "source": [
    "model = GradientBoostingClassifier()\n",
    "model.fit(x_train, y_train)\n",
    "pred = model.predict(x_test)\n",
    "\n",
    "model.score(x_test, y_test)"
   ]
  },
  {
   "cell_type": "code",
   "execution_count": 37,
   "id": "65a88c71",
   "metadata": {},
   "outputs": [
    {
     "name": "stdout",
     "output_type": "stream",
     "text": [
      "[[400  21]\n",
      " [ 23  36]]\n"
     ]
    }
   ],
   "source": [
    "print(confusion_matrix(y_test, pred))"
   ]
  },
  {
   "cell_type": "code",
   "execution_count": 38,
   "id": "fba79cbd",
   "metadata": {},
   "outputs": [
    {
     "name": "stdout",
     "output_type": "stream",
     "text": [
      "              precision    recall  f1-score   support\n",
      "\n",
      "           0       0.95      0.95      0.95       421\n",
      "           1       0.63      0.61      0.62        59\n",
      "\n",
      "    accuracy                           0.91       480\n",
      "   macro avg       0.79      0.78      0.78       480\n",
      "weighted avg       0.91      0.91      0.91       480\n",
      "\n"
     ]
    }
   ],
   "source": [
    "print(classification_report(y_test, pred))"
   ]
  },
  {
   "cell_type": "markdown",
   "id": "5f84b73a",
   "metadata": {},
   "source": [
    "**Random Forest model**"
   ]
  },
  {
   "cell_type": "code",
   "execution_count": 39,
   "id": "b8842fd9",
   "metadata": {},
   "outputs": [
    {
     "data": {
      "text/plain": [
       "0.9333333333333333"
      ]
     },
     "execution_count": 39,
     "metadata": {},
     "output_type": "execute_result"
    }
   ],
   "source": [
    "model = RandomForestClassifier()\n",
    "model.fit(x_train, y_train)\n",
    "pred = model.predict(x_test)\n",
    "\n",
    "model.score(x_test, y_test)"
   ]
  },
  {
   "cell_type": "code",
   "execution_count": 40,
   "id": "2ddd9d79",
   "metadata": {},
   "outputs": [
    {
     "name": "stdout",
     "output_type": "stream",
     "text": [
      "[[409  12]\n",
      " [ 20  39]]\n"
     ]
    }
   ],
   "source": [
    "print(confusion_matrix(y_test, pred))"
   ]
  },
  {
   "cell_type": "code",
   "execution_count": 41,
   "id": "ae3a8d3a",
   "metadata": {},
   "outputs": [
    {
     "name": "stdout",
     "output_type": "stream",
     "text": [
      "              precision    recall  f1-score   support\n",
      "\n",
      "           0       0.95      0.97      0.96       421\n",
      "           1       0.76      0.66      0.71        59\n",
      "\n",
      "    accuracy                           0.93       480\n",
      "   macro avg       0.86      0.82      0.84       480\n",
      "weighted avg       0.93      0.93      0.93       480\n",
      "\n"
     ]
    }
   ],
   "source": [
    "print(classification_report(y_test, pred))"
   ]
  },
  {
   "cell_type": "markdown",
   "id": "ad67cb29",
   "metadata": {},
   "source": [
    "The Random Forest Classifier seems to be the best option in classifying red wine quality."
   ]
  },
  {
   "cell_type": "markdown",
   "id": "e56f0b03",
   "metadata": {},
   "source": [
    "# White wine classification"
   ]
  },
  {
   "cell_type": "code",
   "execution_count": 42,
   "id": "529ab7d1",
   "metadata": {},
   "outputs": [
    {
     "data": {
      "text/plain": [
       "0    3838\n",
       "1    1060\n",
       "Name: isGood, dtype: int64"
      ]
     },
     "execution_count": 42,
     "metadata": {},
     "output_type": "execute_result"
    }
   ],
   "source": [
    "# Create the target attribute 'isGood'\n",
    "\n",
    "df_white['isGood'] = np.where(df_white['quality'] >= 7, 1, 0)\n",
    "df_white['isGood'].value_counts()"
   ]
  },
  {
   "cell_type": "code",
   "execution_count": 43,
   "id": "0663695c",
   "metadata": {},
   "outputs": [],
   "source": [
    "# Separate the train and test data\n",
    "\n",
    "target = df_white['isGood']\n",
    "attr = df_white.drop(['isGood', 'quality'], axis = 1)\n",
    "x_train, x_test, y_train, y_test = train_test_split(attr, target, test_size = 0.3)"
   ]
  },
  {
   "cell_type": "code",
   "execution_count": 44,
   "id": "b9f4a1e3",
   "metadata": {},
   "outputs": [
    {
     "data": {
      "text/plain": [
       "array([[-1.47482831,  0.41058272, -0.03310804, ...,  0.38549912,\n",
       "         0.01332137,  0.48768449],\n",
       "       [-0.29480043,  0.99666541, -0.35924122, ..., -1.00645105,\n",
       "        -1.04867041,  1.62153742],\n",
       "       [ 1.12123302, -0.76158265, -0.7669077 , ..., -0.74131769,\n",
       "         2.22580424,  1.29757944],\n",
       "       ...,\n",
       "       [-0.05879485,  0.21522183, -0.7669077 , ..., -0.80760103,\n",
       "        -0.07517795, -0.88913691],\n",
       "       [-0.88481437,  1.19202631, -0.19617463, ...,  0.18664909,\n",
       "         2.49130218, -0.80814742],\n",
       "       [-0.05879485,  0.11754138, -0.11464133, ..., -0.94016771,\n",
       "         1.16381246,  0.56867399]])"
      ]
     },
     "execution_count": 44,
     "metadata": {},
     "output_type": "execute_result"
    }
   ],
   "source": [
    "# Scale the data\n",
    "\n",
    "scaler = StandardScaler()\n",
    "scaler.fit_transform(x_train, y_train)\n",
    "scaler.transform(x_test)"
   ]
  },
  {
   "cell_type": "markdown",
   "id": "f1c156c5",
   "metadata": {},
   "source": [
    "**Dummy model**"
   ]
  },
  {
   "cell_type": "code",
   "execution_count": 45,
   "id": "ca70cf4b",
   "metadata": {},
   "outputs": [
    {
     "data": {
      "text/plain": [
       "0.780952380952381"
      ]
     },
     "execution_count": 45,
     "metadata": {},
     "output_type": "execute_result"
    }
   ],
   "source": [
    "model = DummyClassifier()\n",
    "model.fit(x_train, y_train)\n",
    "pred = model.predict(x_test)\n",
    "\n",
    "model.score(x_test, y_test)"
   ]
  },
  {
   "cell_type": "markdown",
   "id": "72109911",
   "metadata": {},
   "source": [
    "**Logistic Regression**"
   ]
  },
  {
   "cell_type": "code",
   "execution_count": 46,
   "id": "4b188cb1",
   "metadata": {},
   "outputs": [
    {
     "data": {
      "text/plain": [
       "0.8020408163265306"
      ]
     },
     "execution_count": 46,
     "metadata": {},
     "output_type": "execute_result"
    }
   ],
   "source": [
    "model = LogisticRegression(max_iter = 10000)\n",
    "model.fit(x_train, y_train)\n",
    "pred = model.predict(x_test)\n",
    "\n",
    "model.score(x_test, y_test)"
   ]
  },
  {
   "cell_type": "code",
   "execution_count": 47,
   "id": "b2724346",
   "metadata": {},
   "outputs": [
    {
     "name": "stdout",
     "output_type": "stream",
     "text": [
      "[[1095   53]\n",
      " [ 238   84]]\n"
     ]
    }
   ],
   "source": [
    "print(confusion_matrix(y_test, pred))"
   ]
  },
  {
   "cell_type": "code",
   "execution_count": 48,
   "id": "d96f9490",
   "metadata": {},
   "outputs": [
    {
     "name": "stdout",
     "output_type": "stream",
     "text": [
      "              precision    recall  f1-score   support\n",
      "\n",
      "           0       0.82      0.95      0.88      1148\n",
      "           1       0.61      0.26      0.37       322\n",
      "\n",
      "    accuracy                           0.80      1470\n",
      "   macro avg       0.72      0.61      0.62      1470\n",
      "weighted avg       0.78      0.80      0.77      1470\n",
      "\n"
     ]
    }
   ],
   "source": [
    "print(classification_report(y_test, pred))"
   ]
  },
  {
   "cell_type": "markdown",
   "id": "2c880a38",
   "metadata": {},
   "source": [
    "**Decision Tree model**"
   ]
  },
  {
   "cell_type": "code",
   "execution_count": 49,
   "id": "d0730136",
   "metadata": {},
   "outputs": [
    {
     "data": {
      "text/plain": [
       "0.8027210884353742"
      ]
     },
     "execution_count": 49,
     "metadata": {},
     "output_type": "execute_result"
    }
   ],
   "source": [
    "model = DecisionTreeClassifier()\n",
    "model.fit(x_train, y_train)\n",
    "pred = model.predict(x_test)\n",
    "\n",
    "model.score(x_test, y_test)"
   ]
  },
  {
   "cell_type": "code",
   "execution_count": 50,
   "id": "95c6ede9",
   "metadata": {},
   "outputs": [
    {
     "name": "stdout",
     "output_type": "stream",
     "text": [
      "[[995 153]\n",
      " [137 185]]\n"
     ]
    }
   ],
   "source": [
    "print(confusion_matrix(y_test, pred))"
   ]
  },
  {
   "cell_type": "code",
   "execution_count": 51,
   "id": "85ab1b8e",
   "metadata": {},
   "outputs": [
    {
     "name": "stdout",
     "output_type": "stream",
     "text": [
      "              precision    recall  f1-score   support\n",
      "\n",
      "           0       0.88      0.87      0.87      1148\n",
      "           1       0.55      0.57      0.56       322\n",
      "\n",
      "    accuracy                           0.80      1470\n",
      "   macro avg       0.71      0.72      0.72      1470\n",
      "weighted avg       0.81      0.80      0.80      1470\n",
      "\n"
     ]
    }
   ],
   "source": [
    "print(classification_report(y_test, pred))"
   ]
  },
  {
   "cell_type": "markdown",
   "id": "eac35d3d",
   "metadata": {},
   "source": [
    "**Gradient Boost model**"
   ]
  },
  {
   "cell_type": "code",
   "execution_count": 52,
   "id": "f661bfd7",
   "metadata": {},
   "outputs": [
    {
     "data": {
      "text/plain": [
       "0.8258503401360544"
      ]
     },
     "execution_count": 52,
     "metadata": {},
     "output_type": "execute_result"
    }
   ],
   "source": [
    "model = GradientBoostingClassifier()\n",
    "model.fit(x_train, y_train)\n",
    "pred = model.predict(x_test)\n",
    "\n",
    "model.score(x_test, y_test)"
   ]
  },
  {
   "cell_type": "code",
   "execution_count": 53,
   "id": "1a6ac9b6",
   "metadata": {},
   "outputs": [
    {
     "name": "stdout",
     "output_type": "stream",
     "text": [
      "[[1095   53]\n",
      " [ 203  119]]\n"
     ]
    }
   ],
   "source": [
    "print(confusion_matrix(y_test, pred))"
   ]
  },
  {
   "cell_type": "code",
   "execution_count": 54,
   "id": "637b672c",
   "metadata": {},
   "outputs": [
    {
     "name": "stdout",
     "output_type": "stream",
     "text": [
      "              precision    recall  f1-score   support\n",
      "\n",
      "           0       0.84      0.95      0.90      1148\n",
      "           1       0.69      0.37      0.48       322\n",
      "\n",
      "    accuracy                           0.83      1470\n",
      "   macro avg       0.77      0.66      0.69      1470\n",
      "weighted avg       0.81      0.83      0.80      1470\n",
      "\n"
     ]
    }
   ],
   "source": [
    "print(classification_report(y_test, pred))"
   ]
  },
  {
   "cell_type": "markdown",
   "id": "1df3477e",
   "metadata": {},
   "source": [
    "**Random Forest model**"
   ]
  },
  {
   "cell_type": "code",
   "execution_count": 55,
   "id": "e0eb69c5",
   "metadata": {},
   "outputs": [
    {
     "data": {
      "text/plain": [
       "0.8734693877551021"
      ]
     },
     "execution_count": 55,
     "metadata": {},
     "output_type": "execute_result"
    }
   ],
   "source": [
    "model = RandomForestClassifier()\n",
    "model.fit(x_train, y_train)\n",
    "pred = model.predict(x_test)\n",
    "\n",
    "model.score(x_test, y_test)"
   ]
  },
  {
   "cell_type": "code",
   "execution_count": 56,
   "id": "53e49471",
   "metadata": {},
   "outputs": [
    {
     "name": "stdout",
     "output_type": "stream",
     "text": [
      "[[1110   38]\n",
      " [ 148  174]]\n"
     ]
    }
   ],
   "source": [
    "print(confusion_matrix(y_test, pred))"
   ]
  },
  {
   "cell_type": "code",
   "execution_count": 57,
   "id": "4064b639",
   "metadata": {},
   "outputs": [
    {
     "name": "stdout",
     "output_type": "stream",
     "text": [
      "              precision    recall  f1-score   support\n",
      "\n",
      "           0       0.88      0.97      0.92      1148\n",
      "           1       0.82      0.54      0.65       322\n",
      "\n",
      "    accuracy                           0.87      1470\n",
      "   macro avg       0.85      0.75      0.79      1470\n",
      "weighted avg       0.87      0.87      0.86      1470\n",
      "\n"
     ]
    }
   ],
   "source": [
    "print(classification_report(y_test, pred))"
   ]
  },
  {
   "cell_type": "markdown",
   "id": "93fbe443",
   "metadata": {},
   "source": [
    "Again, the Random Forest Classifier seems to be the best classifier for wine quality."
   ]
  },
  {
   "cell_type": "markdown",
   "id": "2eb11f86",
   "metadata": {},
   "source": [
    "# Combined dataset of white and red wines"
   ]
  },
  {
   "cell_type": "code",
   "execution_count": 58,
   "id": "29c155d4",
   "metadata": {},
   "outputs": [
    {
     "data": {
      "text/plain": [
       "0    5220\n",
       "1    1277\n",
       "Name: isGood, dtype: int64"
      ]
     },
     "execution_count": 58,
     "metadata": {},
     "output_type": "execute_result"
    }
   ],
   "source": [
    "# Create the target attribute 'isGood'\n",
    "\n",
    "df_combined['isGood'] = np.where(df_combined['quality'] >= 7, 1, 0)\n",
    "df_combined['isGood'].value_counts()"
   ]
  },
  {
   "cell_type": "code",
   "execution_count": 59,
   "id": "64e1d02b",
   "metadata": {},
   "outputs": [],
   "source": [
    "# Separate the train and test data\n",
    "\n",
    "target = df_combined['isGood']\n",
    "attr = df_combined.drop(['isGood', 'quality'], axis = 1)\n",
    "x_train, x_test, y_train, y_test = train_test_split(attr, target, test_size = 0.3)"
   ]
  },
  {
   "cell_type": "code",
   "execution_count": 60,
   "id": "34833bf9",
   "metadata": {},
   "outputs": [
    {
     "data": {
      "text/plain": [
       "array([[ 1.61801381, -1.00176215, -0.78011745, ..., -0.20182305,\n",
       "         1.83268667, -0.56219541],\n",
       "       [-0.02487281, -0.23113025, -0.5343967 , ...,  1.19390228,\n",
       "         0.74960228, -0.56219541],\n",
       "       [ 1.58012977, -0.53938301,  1.06278818, ...,  0.28668082,\n",
       "         0.08308881, -0.56219541],\n",
       "       ...,\n",
       "       [ 0.57540243, -0.46231982,  0.01847499, ..., -0.34139558,\n",
       "        -1.08330976, -0.56219541],\n",
       "       [ 0.4718883 , -0.23113025, -0.35010614, ..., -0.48096812,\n",
       "        -0.75005302, -0.56219541],\n",
       "       [-1.50501814,  3.15965009,  1.73852025, ...,  1.12411602,\n",
       "         2.41588595,  1.77874096]])"
      ]
     },
     "execution_count": 60,
     "metadata": {},
     "output_type": "execute_result"
    }
   ],
   "source": [
    "# Scale the data\n",
    "\n",
    "scaler = StandardScaler()\n",
    "scaler.fit_transform(x_train, y_train)\n",
    "scaler.transform(x_test)"
   ]
  },
  {
   "cell_type": "markdown",
   "id": "a296e3ba",
   "metadata": {},
   "source": [
    "**Dummy model**"
   ]
  },
  {
   "cell_type": "code",
   "execution_count": 61,
   "id": "069a7ece",
   "metadata": {},
   "outputs": [
    {
     "data": {
      "text/plain": [
       "0.8082051282051282"
      ]
     },
     "execution_count": 61,
     "metadata": {},
     "output_type": "execute_result"
    }
   ],
   "source": [
    "model = DummyClassifier()\n",
    "model.fit(x_train, y_train)\n",
    "pred = model.predict(x_test)\n",
    "\n",
    "model.score(x_test, y_test)"
   ]
  },
  {
   "cell_type": "markdown",
   "id": "2b936517",
   "metadata": {},
   "source": [
    "**Logistic Regression model**"
   ]
  },
  {
   "cell_type": "code",
   "execution_count": 62,
   "id": "39958253",
   "metadata": {},
   "outputs": [
    {
     "data": {
      "text/plain": [
       "0.8174358974358974"
      ]
     },
     "execution_count": 62,
     "metadata": {},
     "output_type": "execute_result"
    }
   ],
   "source": [
    "model = LogisticRegression(max_iter = 10000)\n",
    "model.fit(x_train, y_train)\n",
    "pred = model.predict(x_test)\n",
    "\n",
    "model.score(x_test, y_test)"
   ]
  },
  {
   "cell_type": "code",
   "execution_count": 63,
   "id": "5fd48033",
   "metadata": {},
   "outputs": [
    {
     "name": "stdout",
     "output_type": "stream",
     "text": [
      "[[1504   72]\n",
      " [ 284   90]]\n"
     ]
    }
   ],
   "source": [
    "print(confusion_matrix(y_test, pred))"
   ]
  },
  {
   "cell_type": "code",
   "execution_count": 64,
   "id": "23fdca7d",
   "metadata": {},
   "outputs": [
    {
     "name": "stdout",
     "output_type": "stream",
     "text": [
      "              precision    recall  f1-score   support\n",
      "\n",
      "           0       0.84      0.95      0.89      1576\n",
      "           1       0.56      0.24      0.34       374\n",
      "\n",
      "    accuracy                           0.82      1950\n",
      "   macro avg       0.70      0.60      0.61      1950\n",
      "weighted avg       0.79      0.82      0.79      1950\n",
      "\n"
     ]
    }
   ],
   "source": [
    "print(classification_report(y_test, pred))"
   ]
  },
  {
   "cell_type": "markdown",
   "id": "33f931b1",
   "metadata": {},
   "source": [
    "**Decision Tree model**"
   ]
  },
  {
   "cell_type": "code",
   "execution_count": 65,
   "id": "f5630afa",
   "metadata": {},
   "outputs": [
    {
     "data": {
      "text/plain": [
       "0.8435897435897436"
      ]
     },
     "execution_count": 65,
     "metadata": {},
     "output_type": "execute_result"
    }
   ],
   "source": [
    "model = DecisionTreeClassifier()\n",
    "model.fit(x_train, y_train)\n",
    "pred = model.predict(x_test)\n",
    "\n",
    "model.score(x_test, y_test)"
   ]
  },
  {
   "cell_type": "code",
   "execution_count": 66,
   "id": "c6a0b698",
   "metadata": {},
   "outputs": [
    {
     "name": "stdout",
     "output_type": "stream",
     "text": [
      "[[1414  162]\n",
      " [ 143  231]]\n"
     ]
    }
   ],
   "source": [
    "print(confusion_matrix(y_test, pred))"
   ]
  },
  {
   "cell_type": "code",
   "execution_count": 67,
   "id": "8642326c",
   "metadata": {},
   "outputs": [
    {
     "name": "stdout",
     "output_type": "stream",
     "text": [
      "              precision    recall  f1-score   support\n",
      "\n",
      "           0       0.91      0.90      0.90      1576\n",
      "           1       0.59      0.62      0.60       374\n",
      "\n",
      "    accuracy                           0.84      1950\n",
      "   macro avg       0.75      0.76      0.75      1950\n",
      "weighted avg       0.85      0.84      0.85      1950\n",
      "\n"
     ]
    }
   ],
   "source": [
    "print(classification_report(y_test, pred))"
   ]
  },
  {
   "cell_type": "markdown",
   "id": "bac3557c",
   "metadata": {},
   "source": [
    "**Gradient Boost model**"
   ]
  },
  {
   "cell_type": "code",
   "execution_count": 68,
   "id": "960c180f",
   "metadata": {},
   "outputs": [
    {
     "data": {
      "text/plain": [
       "0.8451282051282051"
      ]
     },
     "execution_count": 68,
     "metadata": {},
     "output_type": "execute_result"
    }
   ],
   "source": [
    "model = GradientBoostingClassifier()\n",
    "model.fit(x_train, y_train)\n",
    "pred = model.predict(x_test)\n",
    "\n",
    "model.score(x_test, y_test)"
   ]
  },
  {
   "cell_type": "code",
   "execution_count": 69,
   "id": "88a4c9a3",
   "metadata": {},
   "outputs": [
    {
     "name": "stdout",
     "output_type": "stream",
     "text": [
      "[[1504   72]\n",
      " [ 230  144]]\n"
     ]
    }
   ],
   "source": [
    "print(confusion_matrix(y_test, pred))"
   ]
  },
  {
   "cell_type": "code",
   "execution_count": 70,
   "id": "bce9e64a",
   "metadata": {},
   "outputs": [
    {
     "name": "stdout",
     "output_type": "stream",
     "text": [
      "              precision    recall  f1-score   support\n",
      "\n",
      "           0       0.87      0.95      0.91      1576\n",
      "           1       0.67      0.39      0.49       374\n",
      "\n",
      "    accuracy                           0.85      1950\n",
      "   macro avg       0.77      0.67      0.70      1950\n",
      "weighted avg       0.83      0.85      0.83      1950\n",
      "\n"
     ]
    }
   ],
   "source": [
    "print(classification_report(y_test, pred))"
   ]
  },
  {
   "cell_type": "markdown",
   "id": "b1ab59bd",
   "metadata": {},
   "source": [
    "**Random Forest model**"
   ]
  },
  {
   "cell_type": "code",
   "execution_count": 71,
   "id": "e521bce0",
   "metadata": {},
   "outputs": [
    {
     "data": {
      "text/plain": [
       "0.8902564102564102"
      ]
     },
     "execution_count": 71,
     "metadata": {},
     "output_type": "execute_result"
    }
   ],
   "source": [
    "model = RandomForestClassifier()\n",
    "model.fit(x_train, y_train)\n",
    "pred = model.predict(x_test)\n",
    "\n",
    "model.score(x_test, y_test)"
   ]
  },
  {
   "cell_type": "code",
   "execution_count": 72,
   "id": "f669430b",
   "metadata": {},
   "outputs": [
    {
     "name": "stdout",
     "output_type": "stream",
     "text": [
      "[[1533   43]\n",
      " [ 171  203]]\n"
     ]
    }
   ],
   "source": [
    "print(confusion_matrix(y_test, pred))"
   ]
  },
  {
   "cell_type": "code",
   "execution_count": 73,
   "id": "003e8574",
   "metadata": {},
   "outputs": [
    {
     "name": "stdout",
     "output_type": "stream",
     "text": [
      "              precision    recall  f1-score   support\n",
      "\n",
      "           0       0.90      0.97      0.93      1576\n",
      "           1       0.83      0.54      0.65       374\n",
      "\n",
      "    accuracy                           0.89      1950\n",
      "   macro avg       0.86      0.76      0.79      1950\n",
      "weighted avg       0.89      0.89      0.88      1950\n",
      "\n"
     ]
    }
   ],
   "source": [
    "print(classification_report(y_test, pred))"
   ]
  },
  {
   "cell_type": "markdown",
   "id": "2c8d3423",
   "metadata": {},
   "source": [
    "The Random Forest Classifier is the best option for a wine quality classifier with an accuracy of 0.89"
   ]
  }
 ],
 "metadata": {
  "kernelspec": {
   "display_name": "Python 3 (ipykernel)",
   "language": "python",
   "name": "python3"
  },
  "language_info": {
   "codemirror_mode": {
    "name": "ipython",
    "version": 3
   },
   "file_extension": ".py",
   "mimetype": "text/x-python",
   "name": "python",
   "nbconvert_exporter": "python",
   "pygments_lexer": "ipython3",
   "version": "3.9.12"
  }
 },
 "nbformat": 4,
 "nbformat_minor": 5
}
